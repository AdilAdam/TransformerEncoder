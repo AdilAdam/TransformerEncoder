{
 "cells": [
  {
   "cell_type": "code",
   "execution_count": null,
   "metadata": {},
   "outputs": [],
   "source": [
    "import json\n",
    "import torch\n",
    "import torch.nn as nn\n",
    "from TransformerEncoder import TransformerEncoder\n",
    "model = TransformerEncoder()\n",
    "model_size = sum(p.numel() for p in model.parameters()) / (1024 * 1024)\n",
    "model"
   ]
  },
  {
   "cell_type": "code",
   "execution_count": null,
   "metadata": {},
   "outputs": [],
   "source": [
    "print(\"Model size: {:.3f} MB\".format(model_size))"
   ]
  },
  {
   "cell_type": "code",
   "execution_count": null,
   "metadata": {},
   "outputs": [],
   "source": [
    "data = \"./data.json\"\n",
    "f = open(data)\n",
    "data = json.load(f)\n",
    "train_data = data[\"data\"][\"train\"]\n",
    "train_data"
   ]
  },
  {
   "cell_type": "code",
   "execution_count": null,
   "metadata": {},
   "outputs": [],
   "source": [
    "label = data[\"data\"][\"label\"]\n",
    "label"
   ]
  },
  {
   "cell_type": "code",
   "execution_count": null,
   "metadata": {},
   "outputs": [],
   "source": [
    "cv_data = data[\"data\"][\"valid\"]\n",
    "cv_data"
   ]
  },
  {
   "cell_type": "code",
   "execution_count": null,
   "metadata": {},
   "outputs": [],
   "source": [
    "cv_label = data[\"data\"][\"v_label\"]\n",
    "cv_label"
   ]
  },
  {
   "cell_type": "code",
   "execution_count": null,
   "metadata": {},
   "outputs": [],
   "source": [
    "lossfn = nn.CrossEntropyLoss()\n",
    "pred_logmax = nn.LogSoftmax(dim=1)\n",
    "lr = 1e-4\n",
    "optermizer = torch.optim.Adam(model.parameters(), lr=lr)\n",
    "data = torch.tensor(train_data)\n",
    "data"
   ]
  },
  {
   "cell_type": "code",
   "execution_count": null,
   "metadata": {},
   "outputs": [],
   "source": [
    "\n",
    "label = torch.tensor(label)\n",
    "label"
   ]
  },
  {
   "cell_type": "code",
   "execution_count": null,
   "metadata": {},
   "outputs": [],
   "source": [
    "cv_data = torch.tensor(cv_data)\n",
    "cv_data"
   ]
  },
  {
   "cell_type": "code",
   "execution_count": null,
   "metadata": {},
   "outputs": [],
   "source": [
    "cv_label = torch.tensor(cv_label)\n",
    "cv_label"
   ]
  },
  {
   "cell_type": "code",
   "execution_count": null,
   "metadata": {},
   "outputs": [],
   "source": [
    "loss_train = []\n",
    "loss_cv = []\n",
    "for epoch in range(2):\n",
    "    for i in range(1000):\n",
    "        model.train()\n",
    "        pred = model(data)\n",
    "        pred = pred.transpose(2, 1)\n",
    "        loss = lossfn(pred, label)\n",
    "        optermizer.zero_grad()\n",
    "        loss.backward()\n",
    "        optermizer.step()\n",
    "        if i % 100 == 0:\n",
    "            print(\"train_loss: {:.3f}\".format(loss.detach().float().tolist()))\n",
    "            loss_train.append(loss.item())\n",
    "    \n",
    "        model.eval()\n",
    "        with torch.no_grad():\n",
    "            cv_pred = model(cv_data)\n",
    "            cv_pred = cv_pred.transpose(2, 1)\n",
    "            cv_loss = lossfn(cv_pred, cv_label)\n",
    "            if i%100==0:\n",
    "                print(\"cv_loss: {:.3f}\".format(cv_loss.detach().float().tolist()))\n",
    "                loss_cv.append(cv_loss.item())"
   ]
  },
  {
   "cell_type": "code",
   "execution_count": null,
   "metadata": {},
   "outputs": [],
   "source": [
    "\n",
    "from matplotlib.pylab import plt\n",
    "from numpy import arange\n",
    "import numpy as np\n",
    "plt.plot(np.array(loss_train), label='Training Loss')\n",
    "plt.plot(np.array(loss_cv), label='validation Loss')\n",
    "plt.title('Training and Validation Loss')\n",
    "plt.xlabel('Epochs')\n",
    "plt.ylabel('Loss')\n",
    "plt.xticks(arange(0, 20, 2))\n",
    "plt.legend(loc='best')\n",
    "plt.show()"
   ]
  }
 ],
 "metadata": {
  "kernelspec": {
   "display_name": "enhan",
   "language": "python",
   "name": "python3"
  },
  "language_info": {
   "codemirror_mode": {
    "name": "ipython",
    "version": 3
   },
   "file_extension": ".py",
   "mimetype": "text/x-python",
   "name": "python",
   "nbconvert_exporter": "python",
   "pygments_lexer": "ipython3",
   "version": "3.8.16"
  },
  "orig_nbformat": 4
 },
 "nbformat": 4,
 "nbformat_minor": 2
}
