{
 "cells": [
  {
   "cell_type": "code",
   "execution_count": 1,
   "metadata": {},
   "outputs": [
    {
     "name": "stderr",
     "output_type": "stream",
     "text": [
      "/home/junlin/anaconda3/envs/enhan/lib/python3.8/site-packages/tqdm/auto.py:21: TqdmWarning: IProgress not found. Please update jupyter and ipywidgets. See https://ipywidgets.readthedocs.io/en/stable/user_install.html\n",
      "  from .autonotebook import tqdm as notebook_tqdm\n"
     ]
    },
    {
     "data": {
      "text/plain": [
       "TransformerEncoder(\n",
       "  (encoder): Encoder(\n",
       "    (emb): Embedding(50, 512)\n",
       "    (pos): Posionalencoding(\n",
       "      (drop_out): Dropout(p=0.5, inplace=False)\n",
       "    )\n",
       "    (layer): ModuleList(\n",
       "      (0): EncoderBlock(\n",
       "        (attn): Multiheadattention(\n",
       "          (q_w): Linear(in_features=512, out_features=512, bias=True)\n",
       "          (k_w): Linear(in_features=512, out_features=512, bias=True)\n",
       "          (v_w): Linear(in_features=512, out_features=512, bias=True)\n",
       "          (o_w): Linear(in_features=512, out_features=512, bias=True)\n",
       "          (self_attn): ScaledDotProductAttention(\n",
       "            (drop_out): Dropout(p=0.1, inplace=False)\n",
       "          )\n",
       "          (dropout): Dropout(p=0.5, inplace=False)\n",
       "          (layer_norm): LayerNorm((512,), eps=1e-06, elementwise_affine=True)\n",
       "        )\n",
       "        (ffw): PositionwiseFeedForward(\n",
       "          (w_1): Linear(in_features=512, out_features=1024, bias=True)\n",
       "          (activation): ReLU()\n",
       "          (dropout): Dropout(p=0.5, inplace=False)\n",
       "          (w_2): Linear(in_features=1024, out_features=512, bias=True)\n",
       "        )\n",
       "      )\n",
       "      (1): EncoderBlock(\n",
       "        (attn): Multiheadattention(\n",
       "          (q_w): Linear(in_features=512, out_features=512, bias=True)\n",
       "          (k_w): Linear(in_features=512, out_features=512, bias=True)\n",
       "          (v_w): Linear(in_features=512, out_features=512, bias=True)\n",
       "          (o_w): Linear(in_features=512, out_features=512, bias=True)\n",
       "          (self_attn): ScaledDotProductAttention(\n",
       "            (drop_out): Dropout(p=0.1, inplace=False)\n",
       "          )\n",
       "          (dropout): Dropout(p=0.5, inplace=False)\n",
       "          (layer_norm): LayerNorm((512,), eps=1e-06, elementwise_affine=True)\n",
       "        )\n",
       "        (ffw): PositionwiseFeedForward(\n",
       "          (w_1): Linear(in_features=512, out_features=1024, bias=True)\n",
       "          (activation): ReLU()\n",
       "          (dropout): Dropout(p=0.5, inplace=False)\n",
       "          (w_2): Linear(in_features=1024, out_features=512, bias=True)\n",
       "        )\n",
       "      )\n",
       "      (2): EncoderBlock(\n",
       "        (attn): Multiheadattention(\n",
       "          (q_w): Linear(in_features=512, out_features=512, bias=True)\n",
       "          (k_w): Linear(in_features=512, out_features=512, bias=True)\n",
       "          (v_w): Linear(in_features=512, out_features=512, bias=True)\n",
       "          (o_w): Linear(in_features=512, out_features=512, bias=True)\n",
       "          (self_attn): ScaledDotProductAttention(\n",
       "            (drop_out): Dropout(p=0.1, inplace=False)\n",
       "          )\n",
       "          (dropout): Dropout(p=0.5, inplace=False)\n",
       "          (layer_norm): LayerNorm((512,), eps=1e-06, elementwise_affine=True)\n",
       "        )\n",
       "        (ffw): PositionwiseFeedForward(\n",
       "          (w_1): Linear(in_features=512, out_features=1024, bias=True)\n",
       "          (activation): ReLU()\n",
       "          (dropout): Dropout(p=0.5, inplace=False)\n",
       "          (w_2): Linear(in_features=1024, out_features=512, bias=True)\n",
       "        )\n",
       "      )\n",
       "      (3): EncoderBlock(\n",
       "        (attn): Multiheadattention(\n",
       "          (q_w): Linear(in_features=512, out_features=512, bias=True)\n",
       "          (k_w): Linear(in_features=512, out_features=512, bias=True)\n",
       "          (v_w): Linear(in_features=512, out_features=512, bias=True)\n",
       "          (o_w): Linear(in_features=512, out_features=512, bias=True)\n",
       "          (self_attn): ScaledDotProductAttention(\n",
       "            (drop_out): Dropout(p=0.1, inplace=False)\n",
       "          )\n",
       "          (dropout): Dropout(p=0.5, inplace=False)\n",
       "          (layer_norm): LayerNorm((512,), eps=1e-06, elementwise_affine=True)\n",
       "        )\n",
       "        (ffw): PositionwiseFeedForward(\n",
       "          (w_1): Linear(in_features=512, out_features=1024, bias=True)\n",
       "          (activation): ReLU()\n",
       "          (dropout): Dropout(p=0.5, inplace=False)\n",
       "          (w_2): Linear(in_features=1024, out_features=512, bias=True)\n",
       "        )\n",
       "      )\n",
       "      (4): EncoderBlock(\n",
       "        (attn): Multiheadattention(\n",
       "          (q_w): Linear(in_features=512, out_features=512, bias=True)\n",
       "          (k_w): Linear(in_features=512, out_features=512, bias=True)\n",
       "          (v_w): Linear(in_features=512, out_features=512, bias=True)\n",
       "          (o_w): Linear(in_features=512, out_features=512, bias=True)\n",
       "          (self_attn): ScaledDotProductAttention(\n",
       "            (drop_out): Dropout(p=0.1, inplace=False)\n",
       "          )\n",
       "          (dropout): Dropout(p=0.5, inplace=False)\n",
       "          (layer_norm): LayerNorm((512,), eps=1e-06, elementwise_affine=True)\n",
       "        )\n",
       "        (ffw): PositionwiseFeedForward(\n",
       "          (w_1): Linear(in_features=512, out_features=1024, bias=True)\n",
       "          (activation): ReLU()\n",
       "          (dropout): Dropout(p=0.5, inplace=False)\n",
       "          (w_2): Linear(in_features=1024, out_features=512, bias=True)\n",
       "        )\n",
       "      )\n",
       "      (5): EncoderBlock(\n",
       "        (attn): Multiheadattention(\n",
       "          (q_w): Linear(in_features=512, out_features=512, bias=True)\n",
       "          (k_w): Linear(in_features=512, out_features=512, bias=True)\n",
       "          (v_w): Linear(in_features=512, out_features=512, bias=True)\n",
       "          (o_w): Linear(in_features=512, out_features=512, bias=True)\n",
       "          (self_attn): ScaledDotProductAttention(\n",
       "            (drop_out): Dropout(p=0.1, inplace=False)\n",
       "          )\n",
       "          (dropout): Dropout(p=0.5, inplace=False)\n",
       "          (layer_norm): LayerNorm((512,), eps=1e-06, elementwise_affine=True)\n",
       "        )\n",
       "        (ffw): PositionwiseFeedForward(\n",
       "          (w_1): Linear(in_features=512, out_features=1024, bias=True)\n",
       "          (activation): ReLU()\n",
       "          (dropout): Dropout(p=0.5, inplace=False)\n",
       "          (w_2): Linear(in_features=1024, out_features=512, bias=True)\n",
       "        )\n",
       "      )\n",
       "      (6): EncoderBlock(\n",
       "        (attn): Multiheadattention(\n",
       "          (q_w): Linear(in_features=512, out_features=512, bias=True)\n",
       "          (k_w): Linear(in_features=512, out_features=512, bias=True)\n",
       "          (v_w): Linear(in_features=512, out_features=512, bias=True)\n",
       "          (o_w): Linear(in_features=512, out_features=512, bias=True)\n",
       "          (self_attn): ScaledDotProductAttention(\n",
       "            (drop_out): Dropout(p=0.1, inplace=False)\n",
       "          )\n",
       "          (dropout): Dropout(p=0.5, inplace=False)\n",
       "          (layer_norm): LayerNorm((512,), eps=1e-06, elementwise_affine=True)\n",
       "        )\n",
       "        (ffw): PositionwiseFeedForward(\n",
       "          (w_1): Linear(in_features=512, out_features=1024, bias=True)\n",
       "          (activation): ReLU()\n",
       "          (dropout): Dropout(p=0.5, inplace=False)\n",
       "          (w_2): Linear(in_features=1024, out_features=512, bias=True)\n",
       "        )\n",
       "      )\n",
       "      (7): EncoderBlock(\n",
       "        (attn): Multiheadattention(\n",
       "          (q_w): Linear(in_features=512, out_features=512, bias=True)\n",
       "          (k_w): Linear(in_features=512, out_features=512, bias=True)\n",
       "          (v_w): Linear(in_features=512, out_features=512, bias=True)\n",
       "          (o_w): Linear(in_features=512, out_features=512, bias=True)\n",
       "          (self_attn): ScaledDotProductAttention(\n",
       "            (drop_out): Dropout(p=0.1, inplace=False)\n",
       "          )\n",
       "          (dropout): Dropout(p=0.5, inplace=False)\n",
       "          (layer_norm): LayerNorm((512,), eps=1e-06, elementwise_affine=True)\n",
       "        )\n",
       "        (ffw): PositionwiseFeedForward(\n",
       "          (w_1): Linear(in_features=512, out_features=1024, bias=True)\n",
       "          (activation): ReLU()\n",
       "          (dropout): Dropout(p=0.5, inplace=False)\n",
       "          (w_2): Linear(in_features=1024, out_features=512, bias=True)\n",
       "        )\n",
       "      )\n",
       "    )\n",
       "  )\n",
       "  (layer_norm): LayerNorm((512,), eps=1e-05, elementwise_affine=True)\n",
       "  (classifer): Linear(in_features=512, out_features=4, bias=True)\n",
       "  (activ): Sigmoid()\n",
       ")"
      ]
     },
     "execution_count": 1,
     "metadata": {},
     "output_type": "execute_result"
    }
   ],
   "source": [
    "import json\n",
    "import torch\n",
    "import torch.nn as nn\n",
    "from TransformerEncoder import TransformerEncoder\n",
    "model = TransformerEncoder()\n",
    "model_size = sum(p.numel() for p in model.parameters()) / (1024 * 1024)\n",
    "model"
   ]
  },
  {
   "cell_type": "code",
   "execution_count": 2,
   "metadata": {},
   "outputs": [
    {
     "name": "stdout",
     "output_type": "stream",
     "text": [
      "Model size: 16.063 MB\n"
     ]
    }
   ],
   "source": [
    "print(\"Model size: {:.3f} MB\".format(model_size))"
   ]
  },
  {
   "cell_type": "code",
   "execution_count": 3,
   "metadata": {},
   "outputs": [
    {
     "data": {
      "text/plain": [
       "[[1, 2, 3, 4, 5, 6, 7, 8, 9, 10, 11, 12, 13, 14, 15],\n",
       " [15, 7, 9, 4, 12, 6, 2, 3, 8, 11, 14, 5, 13, 1, 10],\n",
       " [10, 15, 3, 8, 5, 6, 13, 12, 9, 1, 11, 14, 7, 4, 2]]"
      ]
     },
     "execution_count": 3,
     "metadata": {},
     "output_type": "execute_result"
    }
   ],
   "source": [
    "data = \"./data.json\"\n",
    "f = open(data)\n",
    "data = json.load(f)\n",
    "train_data = data[\"data\"][\"train\"]\n",
    "train_data"
   ]
  },
  {
   "cell_type": "code",
   "execution_count": 4,
   "metadata": {},
   "outputs": [
    {
     "data": {
      "text/plain": [
       "[[0, 1, 0, 0, 0, 0, 0, 2, 0, 0, 0, 0, 0, 3, 0],\n",
       " [0, 0, 0, 0, 0, 0, 1, 0, 2, 0, 3, 0, 0, 0, 0],\n",
       " [0, 0, 0, 2, 0, 0, 0, 0, 0, 0, 0, 3, 0, 0, 1]]"
      ]
     },
     "execution_count": 4,
     "metadata": {},
     "output_type": "execute_result"
    }
   ],
   "source": [
    "label = data[\"data\"][\"label\"]\n",
    "label"
   ]
  },
  {
   "cell_type": "code",
   "execution_count": 5,
   "metadata": {},
   "outputs": [
    {
     "data": {
      "text/plain": [
       "tensor([[ 1,  2,  3,  4,  5,  6,  7,  8,  9, 10, 11, 12, 13, 14, 15],\n",
       "        [15,  7,  9,  4, 12,  6,  2,  3,  8, 11, 14,  5, 13,  1, 10],\n",
       "        [10, 15,  3,  8,  5,  6, 13, 12,  9,  1, 11, 14,  7,  4,  2]])"
      ]
     },
     "execution_count": 5,
     "metadata": {},
     "output_type": "execute_result"
    }
   ],
   "source": [
    "lossfn = nn.CrossEntropyLoss()\n",
    "pred_logmax = nn.LogSoftmax(dim=1)\n",
    "lr = 1e-4\n",
    "optermizer = torch.optim.Adam(model.parameters(), lr=lr)\n",
    "data = torch.tensor(train_data)\n",
    "data"
   ]
  },
  {
   "cell_type": "code",
   "execution_count": 6,
   "metadata": {},
   "outputs": [
    {
     "data": {
      "text/plain": [
       "tensor([[0, 1, 0, 0, 0, 0, 0, 2, 0, 0, 0, 0, 0, 3, 0],\n",
       "        [0, 0, 0, 0, 0, 0, 1, 0, 2, 0, 3, 0, 0, 0, 0],\n",
       "        [0, 0, 0, 2, 0, 0, 0, 0, 0, 0, 0, 3, 0, 0, 1]])"
      ]
     },
     "execution_count": 6,
     "metadata": {},
     "output_type": "execute_result"
    }
   ],
   "source": [
    "\n",
    "label = torch.tensor(label)\n",
    "label"
   ]
  },
  {
   "cell_type": "code",
   "execution_count": 7,
   "metadata": {},
   "outputs": [
    {
     "name": "stdout",
     "output_type": "stream",
     "text": [
      "loss: 1.403\n",
      "loss: 0.790\n",
      "loss: 0.748\n",
      "loss: 0.746\n",
      "loss: 0.746\n",
      "loss: 0.745\n",
      "loss: 0.745\n",
      "loss: 0.744\n",
      "loss: 0.744\n",
      "loss: 0.744\n",
      "loss: 0.744\n",
      "loss: 0.744\n",
      "loss: 0.744\n",
      "loss: 0.744\n",
      "loss: 0.744\n",
      "loss: 0.744\n",
      "loss: 0.744\n",
      "loss: 0.744\n",
      "loss: 0.744\n",
      "loss: 0.744\n"
     ]
    }
   ],
   "source": [
    "loss_values = []\n",
    "for i in range(2000):\n",
    "    model.train()\n",
    "    pred = model(data)\n",
    "    pred = pred.transpose(2, 1)\n",
    "    loss = lossfn(pred, label)\n",
    "    optermizer.zero_grad()\n",
    "    loss.backward()\n",
    "    optermizer.step()\n",
    "    if i % 100 == 0:\n",
    "        print(\"loss: {:.3f}\".format(loss.detach().float().tolist()))\n",
    "        loss_values.append(loss.item())"
   ]
  },
  {
   "cell_type": "code",
   "execution_count": 8,
   "metadata": {},
   "outputs": [
    {
     "data": {
      "image/png": "[encoded data removed]",
      "text/plain": [
       "<Figure size 640x480 with 1 Axes>"
      ]
     },
     "metadata": {},
     "output_type": "display_data"
    }
   ],
   "source": [
    "\n",
    "from matplotlib.pylab import plt\n",
    "from numpy import arange\n",
    "import numpy as np\n",
    "plt.plot(np.array(loss_values), label='Training Loss')\n",
    "plt.title('Training and Validation Loss')\n",
    "plt.xlabel('Epochs')\n",
    "plt.ylabel('Loss')\n",
    "plt.xticks(arange(0, 21, 2))\n",
    "plt.legend(loc='best')\n",
    "plt.show()"
   ]
  }
 ],
 "metadata": {
  "kernelspec": {
   "display_name": "enhan",
   "language": "python",
   "name": "python3"
  },
  "language_info": {
   "codemirror_mode": {
    "name": "ipython",
    "version": 3
   },
   "file_extension": ".py",
   "mimetype": "text/x-python",
   "name": "python",
   "nbconvert_exporter": "python",
   "pygments_lexer": "ipython3",
   "version": "3.8.16"
  },
  "orig_nbformat": 4
 },
 "nbformat": 4,
 "nbformat_minor": 2
}
